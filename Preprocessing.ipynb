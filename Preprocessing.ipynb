{
 "cells": [
  {
   "cell_type": "markdown",
   "metadata": {
    "collapsed": false
   },
   "source": [
    "## Preprocessing"
   ]
  },
  {
   "cell_type": "code",
   "execution_count": 2,
   "metadata": {
    "collapsed": false
   },
   "outputs": [
   ],
   "source": [
    "# import statements\n",
    "import pandas as pd\n",
    "import numpy as np"
   ]
  },
  {
   "cell_type": "markdown",
   "metadata": {
    "collapsed": false
   },
   "source": [
    "### Dataset 1:"
   ]
  },
  {
   "cell_type": "code",
   "execution_count": 19,
   "metadata": {
    "collapsed": false
   },
   "outputs": [
    {
     "data": {
      "text/html": [
       "<div>\n",
       "<style scoped>\n",
       "    .dataframe tbody tr th:only-of-type {\n",
       "        vertical-align: middle;\n",
       "    }\n",
       "\n",
       "    .dataframe tbody tr th {\n",
       "        vertical-align: top;\n",
       "    }\n",
       "\n",
       "    .dataframe thead th {\n",
       "        text-align: right;\n",
       "    }\n",
       "</style>\n",
       "<table border=\"1\" class=\"dataframe\">\n",
       "  <thead>\n",
       "    <tr style=\"text-align: right;\">\n",
       "      <th></th>\n",
       "      <th>Strain</th>\n",
       "      <th>Type</th>\n",
       "      <th>Rating</th>\n",
       "      <th>Effects</th>\n",
       "      <th>Flavor</th>\n",
       "      <th>Description</th>\n",
       "    </tr>\n",
       "  </thead>\n",
       "  <tbody>\n",
       "    <tr>\n",
       "      <td>0</td>\n",
       "      <td>100-Og</td>\n",
       "      <td>hybrid</td>\n",
       "      <td>4.0</td>\n",
       "      <td>Creative,Energetic,Tingly,Euphoric,Relaxed</td>\n",
       "      <td>Earthy,Sweet,Citrus</td>\n",
       "      <td>$100 OG is a 50/50 hybrid strain that packs a ...</td>\n",
       "    </tr>\n",
       "    <tr>\n",
       "      <td>1</td>\n",
       "      <td>98-White-Widow</td>\n",
       "      <td>hybrid</td>\n",
       "      <td>4.7</td>\n",
       "      <td>Relaxed,Aroused,Creative,Happy,Energetic</td>\n",
       "      <td>Flowery,Violet,Diesel</td>\n",
       "      <td>The ‘98 Aloha White Widow is an especially pot...</td>\n",
       "    </tr>\n",
       "    <tr>\n",
       "      <td>2</td>\n",
       "      <td>1024</td>\n",
       "      <td>sativa</td>\n",
       "      <td>4.4</td>\n",
       "      <td>Uplifted,Happy,Relaxed,Energetic,Creative</td>\n",
       "      <td>Spicy/Herbal,Sage,Woody</td>\n",
       "      <td>1024 is a sativa-dominant hybrid bred in Spain...</td>\n",
       "    </tr>\n",
       "    <tr>\n",
       "      <td>3</td>\n",
       "      <td>13-Dawgs</td>\n",
       "      <td>hybrid</td>\n",
       "      <td>4.2</td>\n",
       "      <td>Tingly,Creative,Hungry,Relaxed,Uplifted</td>\n",
       "      <td>Apricot,Citrus,Grapefruit</td>\n",
       "      <td>13 Dawgs is a hybrid of G13 and Chemdawg genet...</td>\n",
       "    </tr>\n",
       "    <tr>\n",
       "      <td>4</td>\n",
       "      <td>24K-Gold</td>\n",
       "      <td>hybrid</td>\n",
       "      <td>4.6</td>\n",
       "      <td>Happy,Relaxed,Euphoric,Uplifted,Talkative</td>\n",
       "      <td>Citrus,Earthy,Orange</td>\n",
       "      <td>Also known as Kosher Tangie, 24k Gold is a 60%...</td>\n",
       "    </tr>\n",
       "  </tbody>\n",
       "</table>\n",
       "</div>"
      ],
      "text/plain": [
       "           Strain    Type  Rating                                     Effects  \\\n",
       "0          100-Og  hybrid     4.0  Creative,Energetic,Tingly,Euphoric,Relaxed   \n",
       "1  98-White-Widow  hybrid     4.7    Relaxed,Aroused,Creative,Happy,Energetic   \n",
       "2            1024  sativa     4.4   Uplifted,Happy,Relaxed,Energetic,Creative   \n",
       "3        13-Dawgs  hybrid     4.2     Tingly,Creative,Hungry,Relaxed,Uplifted   \n",
       "4        24K-Gold  hybrid     4.6   Happy,Relaxed,Euphoric,Uplifted,Talkative   \n",
       "\n",
       "                      Flavor  \\\n",
       "0        Earthy,Sweet,Citrus   \n",
       "1      Flowery,Violet,Diesel   \n",
       "2    Spicy/Herbal,Sage,Woody   \n",
       "3  Apricot,Citrus,Grapefruit   \n",
       "4       Citrus,Earthy,Orange   \n",
       "\n",
       "                                         Description  \n",
       "0  $100 OG is a 50/50 hybrid strain that packs a ...  \n",
       "1  The ‘98 Aloha White Widow is an especially pot...  \n",
       "2  1024 is a sativa-dominant hybrid bred in Spain...  \n",
       "3  13 Dawgs is a hybrid of G13 and Chemdawg genet...  \n",
       "4  Also known as Kosher Tangie, 24k Gold is a 60%...  "
      ]
     },
     "execution_count": 19,
     "metadata": {
     },
     "output_type": "execute_result"
    }
   ],
   "source": [
    "data = pd.read_csv('cannabis.csv') # load 1st dataset\n",
    "data.head()"
   ]
  },
  {
   "cell_type": "code",
   "execution_count": 20,
   "metadata": {
    "collapsed": false
   },
   "outputs": [
    {
     "name": "stdout",
     "output_type": "stream",
     "text": [
      "<class 'pandas.core.frame.DataFrame'>\n",
      "RangeIndex: 2351 entries, 0 to 2350\n",
      "Data columns (total 6 columns):\n",
      "Strain         2351 non-null object\n",
      "Type           2351 non-null object\n",
      "Rating         2351 non-null float64\n",
      "Effects        2351 non-null object\n",
      "Flavor         2305 non-null object\n",
      "Description    2318 non-null object\n",
      "dtypes: float64(1), object(5)\n",
      "memory usage: 110.3+ KB\n"
     ]
    }
   ],
   "source": [
    "data.info()"
   ]
  },
  {
   "cell_type": "markdown",
   "metadata": {
    "collapsed": false
   },
   "source": [
    "We must note that \"Flavor\" and \"Description\" contain missing values, so we will replace them with empty strings (\"\")."
   ]
  },
  {
   "cell_type": "code",
   "execution_count": 21,
   "metadata": {
    "collapsed": false
   },
   "outputs": [
   ],
   "source": [
    "data[['Flavor', 'Description']] = data[['Flavor', 'Description']].fillna(\"\")"
   ]
  },
  {
   "cell_type": "markdown",
   "metadata": {
    "collapsed": false
   },
   "source": [
    "Ensure there are no duplicates."
   ]
  },
  {
   "cell_type": "code",
   "execution_count": 22,
   "metadata": {
    "collapsed": false
   },
   "outputs": [
   ],
   "source": [
    "data = data[data.duplicated() == False].reset_index(drop=True)"
   ]
  },
  {
   "cell_type": "markdown",
   "metadata": {
    "collapsed": false
   },
   "source": [
    "Let's create dummy variables for \"Effects\" and \"Flavor\" to make analysis easier. We need to first find how many unique effects are present across all strains."
   ]
  },
  {
   "cell_type": "code",
   "execution_count": 23,
   "metadata": {
    "collapsed": false
   },
   "outputs": [
    {
     "data": {
      "text/plain": [
       "({'Aroused',\n",
       "  'Creative',\n",
       "  'Dry',\n",
       "  'Energetic',\n",
       "  'Euphoric',\n",
       "  'Focused',\n",
       "  'Giggly',\n",
       "  'Happy',\n",
       "  'Hungry',\n",
       "  'Mouth',\n",
       "  'None',\n",
       "  'Relaxed',\n",
       "  'Sleepy',\n",
       "  'Talkative',\n",
       "  'Tingly',\n",
       "  'Uplifted'},\n",
       " 16)"
      ]
     },
     "execution_count": 23,
     "metadata": {
     },
     "output_type": "execute_result"
    }
   ],
   "source": [
    "effects_per_row = data['Effects'].apply(lambda x: np.array(x.split(','))).values\n",
    "effects = set(np.concatenate(effects_per_row))\n",
    "effects, len(effects)"
   ]
  },
  {
   "cell_type": "markdown",
   "metadata": {
    "collapsed": false
   },
   "source": [
    "This suggests that we must create 16 columns for each unique effect."
   ]
  },
  {
   "cell_type": "code",
   "execution_count": 24,
   "metadata": {
    "collapsed": false
   },
   "outputs": [
    {
     "data": {
      "text/html": [
       "<div>\n",
       "<style scoped>\n",
       "    .dataframe tbody tr th:only-of-type {\n",
       "        vertical-align: middle;\n",
       "    }\n",
       "\n",
       "    .dataframe tbody tr th {\n",
       "        vertical-align: top;\n",
       "    }\n",
       "\n",
       "    .dataframe thead th {\n",
       "        text-align: right;\n",
       "    }\n",
       "</style>\n",
       "<table border=\"1\" class=\"dataframe\">\n",
       "  <thead>\n",
       "    <tr style=\"text-align: right;\">\n",
       "      <th></th>\n",
       "      <th>E.Talkative</th>\n",
       "      <th>E.Giggly</th>\n",
       "      <th>E.Tingly</th>\n",
       "      <th>E.Hungry</th>\n",
       "      <th>E.Energetic</th>\n",
       "      <th>E.Euphoric</th>\n",
       "      <th>E.Creative</th>\n",
       "      <th>E.Sleepy</th>\n",
       "      <th>E.Relaxed</th>\n",
       "      <th>E.Aroused</th>\n",
       "      <th>E.Uplifted</th>\n",
       "      <th>E.Dry</th>\n",
       "      <th>E.Mouth</th>\n",
       "      <th>E.Focused</th>\n",
       "      <th>E.None</th>\n",
       "      <th>E.Happy</th>\n",
       "    </tr>\n",
       "  </thead>\n",
       "  <tbody>\n",
       "    <tr>\n",
       "      <td>0</td>\n",
       "      <td>0</td>\n",
       "      <td>0</td>\n",
       "      <td>1</td>\n",
       "      <td>0</td>\n",
       "      <td>1</td>\n",
       "      <td>1</td>\n",
       "      <td>1</td>\n",
       "      <td>0</td>\n",
       "      <td>1</td>\n",
       "      <td>0</td>\n",
       "      <td>0</td>\n",
       "      <td>0</td>\n",
       "      <td>0</td>\n",
       "      <td>0</td>\n",
       "      <td>0</td>\n",
       "      <td>0</td>\n",
       "    </tr>\n",
       "    <tr>\n",
       "      <td>1</td>\n",
       "      <td>0</td>\n",
       "      <td>0</td>\n",
       "      <td>0</td>\n",
       "      <td>0</td>\n",
       "      <td>1</td>\n",
       "      <td>0</td>\n",
       "      <td>1</td>\n",
       "      <td>0</td>\n",
       "      <td>1</td>\n",
       "      <td>1</td>\n",
       "      <td>0</td>\n",
       "      <td>0</td>\n",
       "      <td>0</td>\n",
       "      <td>0</td>\n",
       "      <td>0</td>\n",
       "      <td>1</td>\n",
       "    </tr>\n",
       "    <tr>\n",
       "      <td>2</td>\n",
       "      <td>0</td>\n",
       "      <td>0</td>\n",
       "      <td>0</td>\n",
       "      <td>0</td>\n",
       "      <td>1</td>\n",
       "      <td>0</td>\n",
       "      <td>1</td>\n",
       "      <td>0</td>\n",
       "      <td>1</td>\n",
       "      <td>0</td>\n",
       "      <td>1</td>\n",
       "      <td>0</td>\n",
       "      <td>0</td>\n",
       "      <td>0</td>\n",
       "      <td>0</td>\n",
       "      <td>1</td>\n",
       "    </tr>\n",
       "    <tr>\n",
       "      <td>3</td>\n",
       "      <td>0</td>\n",
       "      <td>0</td>\n",
       "      <td>1</td>\n",
       "      <td>1</td>\n",
       "      <td>0</td>\n",
       "      <td>0</td>\n",
       "      <td>1</td>\n",
       "      <td>0</td>\n",
       "      <td>1</td>\n",
       "      <td>0</td>\n",
       "      <td>1</td>\n",
       "      <td>0</td>\n",
       "      <td>0</td>\n",
       "      <td>0</td>\n",
       "      <td>0</td>\n",
       "      <td>0</td>\n",
       "    </tr>\n",
       "    <tr>\n",
       "      <td>4</td>\n",
       "      <td>1</td>\n",
       "      <td>0</td>\n",
       "      <td>0</td>\n",
       "      <td>0</td>\n",
       "      <td>0</td>\n",
       "      <td>1</td>\n",
       "      <td>0</td>\n",
       "      <td>0</td>\n",
       "      <td>1</td>\n",
       "      <td>0</td>\n",
       "      <td>1</td>\n",
       "      <td>0</td>\n",
       "      <td>0</td>\n",
       "      <td>0</td>\n",
       "      <td>0</td>\n",
       "      <td>1</td>\n",
       "    </tr>\n",
       "  </tbody>\n",
       "</table>\n",
       "</div>"
      ],
      "text/plain": [
       "   E.Talkative  E.Giggly  E.Tingly  E.Hungry  E.Energetic  E.Euphoric  \\\n",
       "0            0         0         1         0            1           1   \n",
       "1            0         0         0         0            1           0   \n",
       "2            0         0         0         0            1           0   \n",
       "3            0         0         1         1            0           0   \n",
       "4            1         0         0         0            0           1   \n",
       "\n",
       "   E.Creative  E.Sleepy  E.Relaxed  E.Aroused  E.Uplifted  E.Dry  E.Mouth  \\\n",
       "0           1         0          1          0           0      0        0   \n",
       "1           1         0          1          1           0      0        0   \n",
       "2           1         0          1          0           1      0        0   \n",
       "3           1         0          1          0           1      0        0   \n",
       "4           0         0          1          0           1      0        0   \n",
       "\n",
       "   E.Focused  E.None  E.Happy  \n",
       "0          0       0        0  \n",
       "1          0       0        1  \n",
       "2          0       0        1  \n",
       "3          0       0        0  \n",
       "4          0       0        1  "
      ]
     },
     "execution_count": 24,
     "metadata": {
     },
     "output_type": "execute_result"
    }
   ],
   "source": [
    "effects_dummy_data = pd.DataFrame({str('E.' + effect):[int(effect in row) for row in data['Effects'].values] for effect in effects})\n",
    "effects_dummy_data.head()"
   ]
  },
  {
   "cell_type": "markdown",
   "metadata": {
    "collapsed": false
   },
   "source": [
    "Repeat same procedure for \"flavor\"."
   ]
  },
  {
   "cell_type": "code",
   "execution_count": 25,
   "metadata": {
    "collapsed": false
   },
   "outputs": [
    {
     "data": {
      "text/plain": [
       "({'Ammonia',\n",
       "  'Apple',\n",
       "  'Apricot',\n",
       "  'Berry',\n",
       "  'Blue',\n",
       "  'Blueberry',\n",
       "  'Butter',\n",
       "  'Cheese',\n",
       "  'Chemical',\n",
       "  'Chestnut',\n",
       "  'Citrus',\n",
       "  'Coffee',\n",
       "  'Diesel',\n",
       "  'Earthy',\n",
       "  'Flowery',\n",
       "  'Fruit',\n",
       "  'Grape',\n",
       "  'Grapefruit',\n",
       "  'Honey',\n",
       "  'Lavender',\n",
       "  'Lemon',\n",
       "  'Lime',\n",
       "  'Mango',\n",
       "  'Menthol',\n",
       "  'Mint',\n",
       "  'Minty',\n",
       "  'None',\n",
       "  'Nutty',\n",
       "  'Orange',\n",
       "  'Peach',\n",
       "  'Pear',\n",
       "  'Pepper',\n",
       "  'Pine',\n",
       "  'Pineapple',\n",
       "  'Plum',\n",
       "  'Pungent',\n",
       "  'Rose',\n",
       "  'Sage',\n",
       "  'Skunk',\n",
       "  'Spicy/Herbal',\n",
       "  'Strawberry',\n",
       "  'Sweet',\n",
       "  'Tar',\n",
       "  'Tea',\n",
       "  'Tobacco',\n",
       "  'Tree',\n",
       "  'Tropical',\n",
       "  'Vanilla',\n",
       "  'Violet',\n",
       "  'Woody'},\n",
       " 50)"
      ]
     },
     "execution_count": 25,
     "metadata": {
     },
     "output_type": "execute_result"
    }
   ],
   "source": [
    "flavors_per_row = data['Flavor'][data['Flavor'] != \"\"].apply(lambda x: np.array(x.split(','))).values\n",
    "flavors = set(np.concatenate(flavors_per_row))\n",
    "flavors, len(flavors)"
   ]
  },
  {
   "cell_type": "markdown",
   "metadata": {
    "collapsed": false
   },
   "source": [
    "This suggests that we must create 50 columns for each unique flavor."
   ]
  },
  {
   "cell_type": "code",
   "execution_count": 26,
   "metadata": {
    "collapsed": false
   },
   "outputs": [
    {
     "data": {
      "text/html": [
       "<div>\n",
       "<style scoped>\n",
       "    .dataframe tbody tr th:only-of-type {\n",
       "        vertical-align: middle;\n",
       "    }\n",
       "\n",
       "    .dataframe tbody tr th {\n",
       "        vertical-align: top;\n",
       "    }\n",
       "\n",
       "    .dataframe thead th {\n",
       "        text-align: right;\n",
       "    }\n",
       "</style>\n",
       "<table border=\"1\" class=\"dataframe\">\n",
       "  <thead>\n",
       "    <tr style=\"text-align: right;\">\n",
       "      <th></th>\n",
       "      <th>F.Pine</th>\n",
       "      <th>F.Pungent</th>\n",
       "      <th>F.Tropical</th>\n",
       "      <th>F.Sweet</th>\n",
       "      <th>F.Pear</th>\n",
       "      <th>F.Pineapple</th>\n",
       "      <th>F.Chestnut</th>\n",
       "      <th>F.Peach</th>\n",
       "      <th>F.Honey</th>\n",
       "      <th>F.Lime</th>\n",
       "      <th>...</th>\n",
       "      <th>F.Chemical</th>\n",
       "      <th>F.Orange</th>\n",
       "      <th>F.Rose</th>\n",
       "      <th>F.Earthy</th>\n",
       "      <th>F.Coffee</th>\n",
       "      <th>F.Tea</th>\n",
       "      <th>F.Lemon</th>\n",
       "      <th>F.Nutty</th>\n",
       "      <th>F.Citrus</th>\n",
       "      <th>F.Butter</th>\n",
       "    </tr>\n",
       "  </thead>\n",
       "  <tbody>\n",
       "    <tr>\n",
       "      <td>0</td>\n",
       "      <td>0</td>\n",
       "      <td>0</td>\n",
       "      <td>0</td>\n",
       "      <td>1</td>\n",
       "      <td>0</td>\n",
       "      <td>0</td>\n",
       "      <td>0</td>\n",
       "      <td>0</td>\n",
       "      <td>0</td>\n",
       "      <td>0</td>\n",
       "      <td>...</td>\n",
       "      <td>0</td>\n",
       "      <td>0</td>\n",
       "      <td>0</td>\n",
       "      <td>1</td>\n",
       "      <td>0</td>\n",
       "      <td>0</td>\n",
       "      <td>0</td>\n",
       "      <td>0</td>\n",
       "      <td>1</td>\n",
       "      <td>0</td>\n",
       "    </tr>\n",
       "    <tr>\n",
       "      <td>1</td>\n",
       "      <td>0</td>\n",
       "      <td>0</td>\n",
       "      <td>0</td>\n",
       "      <td>0</td>\n",
       "      <td>0</td>\n",
       "      <td>0</td>\n",
       "      <td>0</td>\n",
       "      <td>0</td>\n",
       "      <td>0</td>\n",
       "      <td>0</td>\n",
       "      <td>...</td>\n",
       "      <td>0</td>\n",
       "      <td>0</td>\n",
       "      <td>0</td>\n",
       "      <td>0</td>\n",
       "      <td>0</td>\n",
       "      <td>0</td>\n",
       "      <td>0</td>\n",
       "      <td>0</td>\n",
       "      <td>0</td>\n",
       "      <td>0</td>\n",
       "    </tr>\n",
       "    <tr>\n",
       "      <td>2</td>\n",
       "      <td>0</td>\n",
       "      <td>0</td>\n",
       "      <td>0</td>\n",
       "      <td>0</td>\n",
       "      <td>0</td>\n",
       "      <td>0</td>\n",
       "      <td>0</td>\n",
       "      <td>0</td>\n",
       "      <td>0</td>\n",
       "      <td>0</td>\n",
       "      <td>...</td>\n",
       "      <td>0</td>\n",
       "      <td>0</td>\n",
       "      <td>0</td>\n",
       "      <td>0</td>\n",
       "      <td>0</td>\n",
       "      <td>0</td>\n",
       "      <td>0</td>\n",
       "      <td>0</td>\n",
       "      <td>0</td>\n",
       "      <td>0</td>\n",
       "    </tr>\n",
       "    <tr>\n",
       "      <td>3</td>\n",
       "      <td>0</td>\n",
       "      <td>0</td>\n",
       "      <td>0</td>\n",
       "      <td>0</td>\n",
       "      <td>0</td>\n",
       "      <td>0</td>\n",
       "      <td>0</td>\n",
       "      <td>0</td>\n",
       "      <td>0</td>\n",
       "      <td>0</td>\n",
       "      <td>...</td>\n",
       "      <td>0</td>\n",
       "      <td>0</td>\n",
       "      <td>0</td>\n",
       "      <td>0</td>\n",
       "      <td>0</td>\n",
       "      <td>0</td>\n",
       "      <td>0</td>\n",
       "      <td>0</td>\n",
       "      <td>1</td>\n",
       "      <td>0</td>\n",
       "    </tr>\n",
       "    <tr>\n",
       "      <td>4</td>\n",
       "      <td>0</td>\n",
       "      <td>0</td>\n",
       "      <td>0</td>\n",
       "      <td>0</td>\n",
       "      <td>0</td>\n",
       "      <td>0</td>\n",
       "      <td>0</td>\n",
       "      <td>0</td>\n",
       "      <td>0</td>\n",
       "      <td>0</td>\n",
       "      <td>...</td>\n",
       "      <td>0</td>\n",
       "      <td>1</td>\n",
       "      <td>0</td>\n",
       "      <td>1</td>\n",
       "      <td>0</td>\n",
       "      <td>0</td>\n",
       "      <td>0</td>\n",
       "      <td>0</td>\n",
       "      <td>1</td>\n",
       "      <td>0</td>\n",
       "    </tr>\n",
       "  </tbody>\n",
       "</table>\n",
       "<p>5 rows × 50 columns</p>\n",
       "</div>"
      ],
      "text/plain": [
       "   F.Pine  F.Pungent  F.Tropical  F.Sweet  F.Pear  F.Pineapple  F.Chestnut  \\\n",
       "0       0          0           0        1       0            0           0   \n",
       "1       0          0           0        0       0            0           0   \n",
       "2       0          0           0        0       0            0           0   \n",
       "3       0          0           0        0       0            0           0   \n",
       "4       0          0           0        0       0            0           0   \n",
       "\n",
       "   F.Peach  F.Honey  F.Lime  ...  F.Chemical  F.Orange  F.Rose  F.Earthy  \\\n",
       "0        0        0       0  ...           0         0       0         1   \n",
       "1        0        0       0  ...           0         0       0         0   \n",
       "2        0        0       0  ...           0         0       0         0   \n",
       "3        0        0       0  ...           0         0       0         0   \n",
       "4        0        0       0  ...           0         1       0         1   \n",
       "\n",
       "   F.Coffee  F.Tea  F.Lemon  F.Nutty  F.Citrus  F.Butter  \n",
       "0         0      0        0        0         1         0  \n",
       "1         0      0        0        0         0         0  \n",
       "2         0      0        0        0         0         0  \n",
       "3         0      0        0        0         1         0  \n",
       "4         0      0        0        0         1         0  \n",
       "\n",
       "[5 rows x 50 columns]"
      ]
     },
     "execution_count": 26,
     "metadata": {
     },
     "output_type": "execute_result"
    }
   ],
   "source": [
    "flavors_dummy_data = pd.DataFrame({str('F.' + flavor):[int(flavor in row) for row in data['Flavor'].values] for flavor in flavors})\n",
    "flavors_dummy_data.head()"
   ]
  },
  {
   "cell_type": "markdown",
   "metadata": {
    "collapsed": false
   },
   "source": [
    "### Dataset 2:"
   ]
  },
  {
   "cell_type": "code",
   "execution_count": 27,
   "metadata": {
    "collapsed": false
   },
   "outputs": [
    {
     "data": {
      "text/html": [
       "<div>\n",
       "<style scoped>\n",
       "    .dataframe tbody tr th:only-of-type {\n",
       "        vertical-align: middle;\n",
       "    }\n",
       "\n",
       "    .dataframe tbody tr th {\n",
       "        vertical-align: top;\n",
       "    }\n",
       "\n",
       "    .dataframe thead th {\n",
       "        text-align: right;\n",
       "    }\n",
       "</style>\n",
       "<table border=\"1\" class=\"dataframe\">\n",
       "  <thead>\n",
       "    <tr style=\"text-align: right;\">\n",
       "      <th></th>\n",
       "      <th>Strain</th>\n",
       "      <th>Type</th>\n",
       "      <th>CBD</th>\n",
       "      <th>THC</th>\n",
       "      <th>Daytime/Nighttime</th>\n",
       "      <th>Plant Length</th>\n",
       "    </tr>\n",
       "  </thead>\n",
       "  <tbody>\n",
       "    <tr>\n",
       "      <td>0</td>\n",
       "      <td>Liberty-Haze</td>\n",
       "      <td>hybrid</td>\n",
       "      <td>0.009020</td>\n",
       "      <td>0.251632</td>\n",
       "      <td>DT</td>\n",
       "      <td>4.326288</td>\n",
       "    </tr>\n",
       "    <tr>\n",
       "      <td>1</td>\n",
       "      <td>Blueberry-Jack</td>\n",
       "      <td>hybrid</td>\n",
       "      <td>0.009004</td>\n",
       "      <td>0.237295</td>\n",
       "      <td>DT</td>\n",
       "      <td>4.434753</td>\n",
       "    </tr>\n",
       "    <tr>\n",
       "      <td>2</td>\n",
       "      <td>Og-Cheese</td>\n",
       "      <td>hybrid</td>\n",
       "      <td>0.009002</td>\n",
       "      <td>0.232326</td>\n",
       "      <td>DT</td>\n",
       "      <td>4.816522</td>\n",
       "    </tr>\n",
       "    <tr>\n",
       "      <td>3</td>\n",
       "      <td>Blueberry</td>\n",
       "      <td>indica</td>\n",
       "      <td>0.009993</td>\n",
       "      <td>0.214759</td>\n",
       "      <td>DT</td>\n",
       "      <td>6.964816</td>\n",
       "    </tr>\n",
       "    <tr>\n",
       "      <td>4</td>\n",
       "      <td>Kaboom</td>\n",
       "      <td>sativa</td>\n",
       "      <td>0.000542</td>\n",
       "      <td>0.266705</td>\n",
       "      <td>DT</td>\n",
       "      <td>12.680640</td>\n",
       "    </tr>\n",
       "  </tbody>\n",
       "</table>\n",
       "</div>"
      ],
      "text/plain": [
       "           Strain    Type       CBD       THC Daytime/Nighttime  Plant Length\n",
       "0    Liberty-Haze  hybrid  0.009020  0.251632                DT      4.326288\n",
       "1  Blueberry-Jack  hybrid  0.009004  0.237295                DT      4.434753\n",
       "2       Og-Cheese  hybrid  0.009002  0.232326                DT      4.816522\n",
       "3       Blueberry  indica  0.009993  0.214759                DT      6.964816\n",
       "4          Kaboom  sativa  0.000542  0.266705                DT     12.680640"
      ]
     },
     "execution_count": 27,
     "metadata": {
     },
     "output_type": "execute_result"
    }
   ],
   "source": [
    "data1 = pd.read_csv('cannabis1.csv') # load 2nd dataset\n",
    "data1.head()"
   ]
  },
  {
   "cell_type": "code",
   "execution_count": 28,
   "metadata": {
    "collapsed": false
   },
   "outputs": [
    {
     "name": "stdout",
     "output_type": "stream",
     "text": [
      "<class 'pandas.core.frame.DataFrame'>\n",
      "RangeIndex: 28420 entries, 0 to 28419\n",
      "Data columns (total 6 columns):\n",
      "Strain               28420 non-null object\n",
      "Type                 28420 non-null object\n",
      "CBD                  28420 non-null float64\n",
      "THC                  28420 non-null float64\n",
      "Daytime/Nighttime    28420 non-null object\n",
      "Plant Length         28420 non-null float64\n",
      "dtypes: float64(3), object(3)\n",
      "memory usage: 1.3+ MB\n"
     ]
    }
   ],
   "source": [
    "data1.info()"
   ]
  },
  {
   "cell_type": "markdown",
   "metadata": {
    "collapsed": false
   },
   "source": [
    "Ensure there are no duplicates."
   ]
  },
  {
   "cell_type": "code",
   "execution_count": 29,
   "metadata": {
    "collapsed": false
   },
   "outputs": [
   ],
   "source": [
    "data1 = data1[data1.duplicated() == False]"
   ]
  },
  {
   "cell_type": "markdown",
   "metadata": {
    "collapsed": false
   },
   "source": [
    "Now, we will group by cannabis strains and aggegrate \"CBD\" by average, \"THC\" by average, \"Daytime/Nighttime\" by mode, and \"Plant Length\" by average."
   ]
  },
  {
   "cell_type": "code",
   "execution_count": 30,
   "metadata": {
    "collapsed": false
   },
   "outputs": [
    {
     "data": {
      "text/html": [
       "<div>\n",
       "<style scoped>\n",
       "    .dataframe tbody tr th:only-of-type {\n",
       "        vertical-align: middle;\n",
       "    }\n",
       "\n",
       "    .dataframe tbody tr th {\n",
       "        vertical-align: top;\n",
       "    }\n",
       "\n",
       "    .dataframe thead th {\n",
       "        text-align: right;\n",
       "    }\n",
       "</style>\n",
       "<table border=\"1\" class=\"dataframe\">\n",
       "  <thead>\n",
       "    <tr style=\"text-align: right;\">\n",
       "      <th></th>\n",
       "      <th>Strain</th>\n",
       "      <th>CBD</th>\n",
       "      <th>THC</th>\n",
       "      <th>Daytime/Nighttime</th>\n",
       "      <th>Plant Length</th>\n",
       "    </tr>\n",
       "  </thead>\n",
       "  <tbody>\n",
       "    <tr>\n",
       "      <td>0</td>\n",
       "      <td>100-Og</td>\n",
       "      <td>0.009001</td>\n",
       "      <td>0.250741</td>\n",
       "      <td>DT</td>\n",
       "      <td>4.925945</td>\n",
       "    </tr>\n",
       "    <tr>\n",
       "      <td>1</td>\n",
       "      <td>1024</td>\n",
       "      <td>0.000508</td>\n",
       "      <td>0.288601</td>\n",
       "      <td>DT</td>\n",
       "      <td>12.266653</td>\n",
       "    </tr>\n",
       "    <tr>\n",
       "      <td>2</td>\n",
       "      <td>13-Dawgs</td>\n",
       "      <td>0.009002</td>\n",
       "      <td>0.245688</td>\n",
       "      <td>DT</td>\n",
       "      <td>4.755673</td>\n",
       "    </tr>\n",
       "    <tr>\n",
       "      <td>3</td>\n",
       "      <td>24K-Gold</td>\n",
       "      <td>0.008996</td>\n",
       "      <td>0.249672</td>\n",
       "      <td>DT</td>\n",
       "      <td>4.827362</td>\n",
       "    </tr>\n",
       "    <tr>\n",
       "      <td>4</td>\n",
       "      <td>3-Bears-Og</td>\n",
       "      <td>0.013001</td>\n",
       "      <td>0.212543</td>\n",
       "      <td>DT</td>\n",
       "      <td>4.613317</td>\n",
       "    </tr>\n",
       "  </tbody>\n",
       "</table>\n",
       "</div>"
      ],
      "text/plain": [
       "       Strain       CBD       THC Daytime/Nighttime  Plant Length\n",
       "0      100-Og  0.009001  0.250741                DT      4.925945\n",
       "1        1024  0.000508  0.288601                DT     12.266653\n",
       "2    13-Dawgs  0.009002  0.245688                DT      4.755673\n",
       "3    24K-Gold  0.008996  0.249672                DT      4.827362\n",
       "4  3-Bears-Og  0.013001  0.212543                DT      4.613317"
      ]
     },
     "execution_count": 30,
     "metadata": {
     },
     "output_type": "execute_result"
    }
   ],
   "source": [
    "data1 = data1.groupby('Strain').agg({'CBD':'mean', 'THC':'mean', 'Daytime/Nighttime':lambda x: pd.Series.mode(x)[0], 'Plant Length':'mean'})\n",
    "data1 = data1.reset_index()\n",
    "data1.head()"
   ]
  },
  {
   "cell_type": "markdown",
   "metadata": {
    "collapsed": false
   },
   "source": [
    "### Merge Data Frames:"
   ]
  },
  {
   "cell_type": "markdown",
   "metadata": {
    "collapsed": false
   },
   "source": [
    "Lastly, we will merge all data frames and export to csv."
   ]
  },
  {
   "cell_type": "code",
   "execution_count": 31,
   "metadata": {
    "collapsed": false
   },
   "outputs": [
    {
     "data": {
      "text/html": [
       "<div>\n",
       "<style scoped>\n",
       "    .dataframe tbody tr th:only-of-type {\n",
       "        vertical-align: middle;\n",
       "    }\n",
       "\n",
       "    .dataframe tbody tr th {\n",
       "        vertical-align: top;\n",
       "    }\n",
       "\n",
       "    .dataframe thead th {\n",
       "        text-align: right;\n",
       "    }\n",
       "</style>\n",
       "<table border=\"1\" class=\"dataframe\">\n",
       "  <thead>\n",
       "    <tr style=\"text-align: right;\">\n",
       "      <th></th>\n",
       "      <th>Strain</th>\n",
       "      <th>Type</th>\n",
       "      <th>Rating</th>\n",
       "      <th>CBD</th>\n",
       "      <th>THC</th>\n",
       "      <th>Plant Length</th>\n",
       "      <th>Daytime/Nighttime</th>\n",
       "      <th>E.Talkative</th>\n",
       "      <th>E.Giggly</th>\n",
       "      <th>E.Tingly</th>\n",
       "      <th>...</th>\n",
       "      <th>F.Orange</th>\n",
       "      <th>F.Rose</th>\n",
       "      <th>F.Earthy</th>\n",
       "      <th>F.Coffee</th>\n",
       "      <th>F.Tea</th>\n",
       "      <th>F.Lemon</th>\n",
       "      <th>F.Nutty</th>\n",
       "      <th>F.Citrus</th>\n",
       "      <th>F.Butter</th>\n",
       "      <th>Description</th>\n",
       "    </tr>\n",
       "  </thead>\n",
       "  <tbody>\n",
       "    <tr>\n",
       "      <td>0</td>\n",
       "      <td>100-Og</td>\n",
       "      <td>hybrid</td>\n",
       "      <td>4.0</td>\n",
       "      <td>0.009001</td>\n",
       "      <td>0.250741</td>\n",
       "      <td>4.925945</td>\n",
       "      <td>DT</td>\n",
       "      <td>0</td>\n",
       "      <td>0</td>\n",
       "      <td>1</td>\n",
       "      <td>...</td>\n",
       "      <td>0</td>\n",
       "      <td>0</td>\n",
       "      <td>1</td>\n",
       "      <td>0</td>\n",
       "      <td>0</td>\n",
       "      <td>0</td>\n",
       "      <td>0</td>\n",
       "      <td>1</td>\n",
       "      <td>0</td>\n",
       "      <td>$100 OG is a 50/50 hybrid strain that packs a ...</td>\n",
       "    </tr>\n",
       "    <tr>\n",
       "      <td>1</td>\n",
       "      <td>98-White-Widow</td>\n",
       "      <td>hybrid</td>\n",
       "      <td>4.7</td>\n",
       "      <td>0.008998</td>\n",
       "      <td>0.245937</td>\n",
       "      <td>4.860690</td>\n",
       "      <td>DT</td>\n",
       "      <td>0</td>\n",
       "      <td>0</td>\n",
       "      <td>0</td>\n",
       "      <td>...</td>\n",
       "      <td>0</td>\n",
       "      <td>0</td>\n",
       "      <td>0</td>\n",
       "      <td>0</td>\n",
       "      <td>0</td>\n",
       "      <td>0</td>\n",
       "      <td>0</td>\n",
       "      <td>0</td>\n",
       "      <td>0</td>\n",
       "      <td>The ‘98 Aloha White Widow is an especially pot...</td>\n",
       "    </tr>\n",
       "    <tr>\n",
       "      <td>2</td>\n",
       "      <td>1024</td>\n",
       "      <td>sativa</td>\n",
       "      <td>4.4</td>\n",
       "      <td>0.000508</td>\n",
       "      <td>0.288601</td>\n",
       "      <td>12.266653</td>\n",
       "      <td>DT</td>\n",
       "      <td>0</td>\n",
       "      <td>0</td>\n",
       "      <td>0</td>\n",
       "      <td>...</td>\n",
       "      <td>0</td>\n",
       "      <td>0</td>\n",
       "      <td>0</td>\n",
       "      <td>0</td>\n",
       "      <td>0</td>\n",
       "      <td>0</td>\n",
       "      <td>0</td>\n",
       "      <td>0</td>\n",
       "      <td>0</td>\n",
       "      <td>1024 is a sativa-dominant hybrid bred in Spain...</td>\n",
       "    </tr>\n",
       "    <tr>\n",
       "      <td>3</td>\n",
       "      <td>13-Dawgs</td>\n",
       "      <td>hybrid</td>\n",
       "      <td>4.2</td>\n",
       "      <td>0.009002</td>\n",
       "      <td>0.245688</td>\n",
       "      <td>4.755673</td>\n",
       "      <td>DT</td>\n",
       "      <td>0</td>\n",
       "      <td>0</td>\n",
       "      <td>1</td>\n",
       "      <td>...</td>\n",
       "      <td>0</td>\n",
       "      <td>0</td>\n",
       "      <td>0</td>\n",
       "      <td>0</td>\n",
       "      <td>0</td>\n",
       "      <td>0</td>\n",
       "      <td>0</td>\n",
       "      <td>1</td>\n",
       "      <td>0</td>\n",
       "      <td>13 Dawgs is a hybrid of G13 and Chemdawg genet...</td>\n",
       "    </tr>\n",
       "    <tr>\n",
       "      <td>4</td>\n",
       "      <td>24K-Gold</td>\n",
       "      <td>hybrid</td>\n",
       "      <td>4.6</td>\n",
       "      <td>0.008996</td>\n",
       "      <td>0.249672</td>\n",
       "      <td>4.827362</td>\n",
       "      <td>DT</td>\n",
       "      <td>1</td>\n",
       "      <td>0</td>\n",
       "      <td>0</td>\n",
       "      <td>...</td>\n",
       "      <td>1</td>\n",
       "      <td>0</td>\n",
       "      <td>1</td>\n",
       "      <td>0</td>\n",
       "      <td>0</td>\n",
       "      <td>0</td>\n",
       "      <td>0</td>\n",
       "      <td>1</td>\n",
       "      <td>0</td>\n",
       "      <td>Also known as Kosher Tangie, 24k Gold is a 60%...</td>\n",
       "    </tr>\n",
       "  </tbody>\n",
       "</table>\n",
       "<p>5 rows × 74 columns</p>\n",
       "</div>"
      ],
      "text/plain": [
       "           Strain    Type  Rating       CBD       THC  Plant Length  \\\n",
       "0          100-Og  hybrid     4.0  0.009001  0.250741      4.925945   \n",
       "1  98-White-Widow  hybrid     4.7  0.008998  0.245937      4.860690   \n",
       "2            1024  sativa     4.4  0.000508  0.288601     12.266653   \n",
       "3        13-Dawgs  hybrid     4.2  0.009002  0.245688      4.755673   \n",
       "4        24K-Gold  hybrid     4.6  0.008996  0.249672      4.827362   \n",
       "\n",
       "  Daytime/Nighttime  E.Talkative  E.Giggly  E.Tingly  ...  F.Orange  F.Rose  \\\n",
       "0                DT            0         0         1  ...         0       0   \n",
       "1                DT            0         0         0  ...         0       0   \n",
       "2                DT            0         0         0  ...         0       0   \n",
       "3                DT            0         0         1  ...         0       0   \n",
       "4                DT            1         0         0  ...         1       0   \n",
       "\n",
       "   F.Earthy  F.Coffee  F.Tea  F.Lemon  F.Nutty  F.Citrus  F.Butter  \\\n",
       "0         1         0      0        0        0         1         0   \n",
       "1         0         0      0        0        0         0         0   \n",
       "2         0         0      0        0        0         0         0   \n",
       "3         0         0      0        0        0         1         0   \n",
       "4         1         0      0        0        0         1         0   \n",
       "\n",
       "                                         Description  \n",
       "0  $100 OG is a 50/50 hybrid strain that packs a ...  \n",
       "1  The ‘98 Aloha White Widow is an especially pot...  \n",
       "2  1024 is a sativa-dominant hybrid bred in Spain...  \n",
       "3  13 Dawgs is a hybrid of G13 and Chemdawg genet...  \n",
       "4  Also known as Kosher Tangie, 24k Gold is a 60%...  \n",
       "\n",
       "[5 rows x 74 columns]"
      ]
     },
     "execution_count": 31,
     "metadata": {
     },
     "output_type": "execute_result"
    }
   ],
   "source": [
    "merged_data = pd.concat([data[['Strain', 'Type', 'Rating', 'Description']], effects_dummy_data, flavors_dummy_data], axis=1)\n",
    "merged_data = pd.merge(merged_data, data1)\n",
    "cols = ['Strain', 'Type', 'Rating', 'CBD', 'THC', 'Plant Length', 'Daytime/Nighttime'] + list(merged_data.columns[4:-4]) + ['Description']\n",
    "merged_data = merged_data[cols]\n",
    "merged_data.head()\n"
   ]
  },
  {
   "cell_type": "markdown",
   "metadata": {
    "collapsed": false
   },
   "source": [
    "Only uncomment to overwrite file in directory."
   ]
  },
  {
   "cell_type": "code",
   "execution_count": 34,
   "metadata": {
    "collapsed": false
   },
   "outputs": [
   ],
   "source": [
    "#merged_data.to_csv('cannabis_dummy.csv', index=False)\n",
    "#effects_dummy_data.to_csv('effects_dummy.csv', index=False)\n",
    "#flavors_dummy_data.to_csv('flavors_dummy.csv', index=False)"
   ]
  }
 ],
 "metadata": {
  "kernelspec": {
   "display_name": "Python 3 (system-wide)",
   "language": "python",
   "metadata": {
    "cocalc": {
     "description": "Python 3 programming language",
     "priority": 100,
     "url": "https://www.python.org/"
    }
   },
   "name": "python3"
  },
  "language_info": {
   "codemirror_mode": {
    "name": "ipython",
    "version": 3
   },
   "file_extension": ".py",
   "mimetype": "text/x-python",
   "name": "python",
   "nbconvert_exporter": "python",
   "pygments_lexer": "ipython3",
   "version": "3.6.9"
  }
 },
 "nbformat": 4,
 "nbformat_minor": 0
}